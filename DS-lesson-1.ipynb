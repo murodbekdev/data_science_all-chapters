{
 "cells": [
  {
   "cell_type": "code",
   "execution_count": 2,
   "id": "c384eb4e-6046-48b3-acaf-10f3e132f362",
   "metadata": {},
   "outputs": [
    {
     "name": "stdout",
     "output_type": "stream",
     "text": [
      "hello world\n"
     ]
    }
   ],
   "source": [
    "print('hello world')\n"
   ]
  },
  {
   "cell_type": "code",
   "execution_count": 4,
   "id": "ba6fca46-f167-4b08-80ab-b6a7a482c337",
   "metadata": {},
   "outputs": [
    {
     "name": "stdout",
     "output_type": "stream",
     "text": [
      "Help on built-in function len in module builtins:\n",
      "\n",
      "len(obj, /)\n",
      "    Return the number of items in a container.\n",
      "\n"
     ]
    }
   ],
   "source": [
    "help(len)"
   ]
  },
  {
   "cell_type": "code",
   "execution_count": 6,
   "id": "c6b32739-153a-45ba-803b-23b6bcee74e2",
   "metadata": {},
   "outputs": [
    {
     "data": {
      "text/plain": [
       "\u001b[0;31mSignature:\u001b[0m \u001b[0mlen\u001b[0m\u001b[0;34m(\u001b[0m\u001b[0mobj\u001b[0m\u001b[0;34m,\u001b[0m \u001b[0;34m/\u001b[0m\u001b[0;34m)\u001b[0m\u001b[0;34m\u001b[0m\u001b[0;34m\u001b[0m\u001b[0m\n",
       "\u001b[0;31mDocstring:\u001b[0m Return the number of items in a container.\n",
       "\u001b[0;31mType:\u001b[0m      builtin_function_or_method"
      ]
     },
     "metadata": {},
     "output_type": "display_data"
    }
   ],
   "source": [
    "# So, here is ? mark represents the help as a shorthand\n",
    "\n",
    "len?"
   ]
  },
  {
   "cell_type": "code",
   "execution_count": 9,
   "id": "d4f2f2cd-7bc5-4141-bac6-c080ecf22501",
   "metadata": {},
   "outputs": [
    {
     "data": {
      "text/plain": [
       "\u001b[0;31mSignature:\u001b[0m \u001b[0mL\u001b[0m\u001b[0;34m.\u001b[0m\u001b[0minsert\u001b[0m\u001b[0;34m(\u001b[0m\u001b[0mindex\u001b[0m\u001b[0;34m,\u001b[0m \u001b[0mobject\u001b[0m\u001b[0;34m,\u001b[0m \u001b[0;34m/\u001b[0m\u001b[0;34m)\u001b[0m\u001b[0;34m\u001b[0m\u001b[0;34m\u001b[0m\u001b[0m\n",
       "\u001b[0;31mDocstring:\u001b[0m Insert object before index.\n",
       "\u001b[0;31mType:\u001b[0m      builtin_function_or_method"
      ]
     },
     "metadata": {},
     "output_type": "display_data"
    }
   ],
   "source": [
    "L = [1, 2, 3]\n",
    "L.insert?"
   ]
  },
  {
   "cell_type": "code",
   "execution_count": 11,
   "id": "80e50465-24b6-4b1d-b6a4-d7983ab61eb0",
   "metadata": {},
   "outputs": [
    {
     "data": {
      "text/plain": [
       "\u001b[0;31mType:\u001b[0m        list\n",
       "\u001b[0;31mString form:\u001b[0m [1, 2, 3]\n",
       "\u001b[0;31mLength:\u001b[0m      3\n",
       "\u001b[0;31mDocstring:\u001b[0m  \n",
       "Built-in mutable sequence.\n",
       "\n",
       "If no argument is given, the constructor creates a new empty list.\n",
       "The argument must be an iterable if specified."
      ]
     },
     "metadata": {},
     "output_type": "display_data"
    }
   ],
   "source": [
    "L?"
   ]
  },
  {
   "cell_type": "code",
   "execution_count": 13,
   "id": "135cea2b-0aa0-472d-b075-68c80ffd6171",
   "metadata": {},
   "outputs": [],
   "source": [
    "def square(a):\n",
    "    \"\"\"Return the square a.\"\"\"\n",
    "    return a ** 2"
   ]
  },
  {
   "cell_type": "code",
   "execution_count": 15,
   "id": "12dcb11e-3fd2-407e-9a2e-89b2c6abc9dc",
   "metadata": {},
   "outputs": [
    {
     "data": {
      "text/plain": [
       "\u001b[0;31mSignature:\u001b[0m \u001b[0msquare\u001b[0m\u001b[0;34m(\u001b[0m\u001b[0ma\u001b[0m\u001b[0;34m)\u001b[0m\u001b[0;34m\u001b[0m\u001b[0;34m\u001b[0m\u001b[0m\n",
       "\u001b[0;31mSource:\u001b[0m   \n",
       "\u001b[0;32mdef\u001b[0m \u001b[0msquare\u001b[0m\u001b[0;34m(\u001b[0m\u001b[0ma\u001b[0m\u001b[0;34m)\u001b[0m\u001b[0;34m:\u001b[0m\u001b[0;34m\u001b[0m\n",
       "\u001b[0;34m\u001b[0m    \u001b[0;34m\"\"\"Return the square a.\"\"\"\u001b[0m\u001b[0;34m\u001b[0m\n",
       "\u001b[0;34m\u001b[0m    \u001b[0;32mreturn\u001b[0m \u001b[0ma\u001b[0m \u001b[0;34m**\u001b[0m \u001b[0;36m2\u001b[0m\u001b[0;34m\u001b[0m\u001b[0;34m\u001b[0m\u001b[0m\n",
       "\u001b[0;31mFile:\u001b[0m      /var/folders/j4/qzhh77r553z1scwnh3mxkx200000gn/T/ipykernel_5439/4190633865.py\n",
       "\u001b[0;31mType:\u001b[0m      function"
      ]
     },
     "metadata": {},
     "output_type": "display_data"
    }
   ],
   "source": [
    "square??"
   ]
  },
  {
   "cell_type": "code",
   "execution_count": 17,
   "id": "d918b3d1-4d39-4986-ad7e-0d5645d26e05",
   "metadata": {},
   "outputs": [
    {
     "data": {
      "text/plain": [
       "\u001b[0;31mSignature:\u001b[0m \u001b[0mlen\u001b[0m\u001b[0;34m(\u001b[0m\u001b[0mobj\u001b[0m\u001b[0;34m,\u001b[0m \u001b[0;34m/\u001b[0m\u001b[0;34m)\u001b[0m\u001b[0;34m\u001b[0m\u001b[0;34m\u001b[0m\u001b[0m\n",
       "\u001b[0;31mDocstring:\u001b[0m Return the number of items in a container.\n",
       "\u001b[0;31mType:\u001b[0m      builtin_function_or_method"
      ]
     },
     "metadata": {},
     "output_type": "display_data"
    }
   ],
   "source": [
    "len??"
   ]
  },
  {
   "cell_type": "code",
   "execution_count": 19,
   "id": "d9b9698e-f546-4a18-8cbc-215d237c1a80",
   "metadata": {},
   "outputs": [
    {
     "ename": "SyntaxError",
     "evalue": "invalid syntax (3745167853.py, line 1)",
     "output_type": "error",
     "traceback": [
      "\u001b[0;36m  Cell \u001b[0;32mIn[19], line 1\u001b[0;36m\u001b[0m\n\u001b[0;31m    L.<TAB>\u001b[0m\n\u001b[0m      ^\u001b[0m\n\u001b[0;31mSyntaxError\u001b[0m\u001b[0;31m:\u001b[0m invalid syntax\n"
     ]
    }
   ],
   "source": [
    "L.<TAB>"
   ]
  },
  {
   "cell_type": "code",
   "execution_count": 6,
   "id": "b1499118-bda4-4cf2-9e2a-73884168b0d7",
   "metadata": {},
   "outputs": [
    {
     "ename": "SyntaxError",
     "evalue": "invalid syntax (3399076706.py, line 1)",
     "output_type": "error",
     "traceback": [
      "\u001b[0;36m  Cell \u001b[0;32mIn[6], line 1\u001b[0;36m\u001b[0m\n\u001b[0;31m    L.\u001b[0m\n\u001b[0m      ^\u001b[0m\n\u001b[0;31mSyntaxError\u001b[0m\u001b[0;31m:\u001b[0m invalid syntax\n"
     ]
    }
   ],
   "source": [
    "L."
   ]
  },
  {
   "cell_type": "code",
   "execution_count": 21,
   "id": "b5733401-5c21-49c2-9335-a962b46d4a38",
   "metadata": {},
   "outputs": [
    {
     "ename": "SyntaxError",
     "evalue": "invalid syntax (3745167853.py, line 1)",
     "output_type": "error",
     "traceback": [
      "\u001b[0;36m  Cell \u001b[0;32mIn[21], line 1\u001b[0;36m\u001b[0m\n\u001b[0;31m    L.<TAB>\u001b[0m\n\u001b[0m      ^\u001b[0m\n\u001b[0;31mSyntaxError\u001b[0m\u001b[0;31m:\u001b[0m invalid syntax\n"
     ]
    }
   ],
   "source": [
    "L.<TAB>"
   ]
  },
  {
   "cell_type": "code",
   "execution_count": 24,
   "id": "1f168890-f560-4d1a-980c-a4dea34ce561",
   "metadata": {},
   "outputs": [],
   "source": [
    "L.append(4)"
   ]
  },
  {
   "cell_type": "code",
   "execution_count": 26,
   "id": "d3d656a3-3f6c-4226-b6d0-9e49d0625fc6",
   "metadata": {},
   "outputs": [
    {
     "name": "stdout",
     "output_type": "stream",
     "text": [
      "[1, 2, 3, 4]\n"
     ]
    }
   ],
   "source": [
    "print(L)"
   ]
  },
  {
   "cell_type": "code",
   "execution_count": 28,
   "id": "c84b32a2-aafb-4948-93dc-c93a2ec784fc",
   "metadata": {},
   "outputs": [],
   "source": [
    "L.__delitem__(3)"
   ]
  },
  {
   "cell_type": "code",
   "execution_count": 30,
   "id": "1dbcecb4-1224-4dfd-8c12-9c29be9a3f25",
   "metadata": {},
   "outputs": [
    {
     "data": {
      "text/plain": [
       "\u001b[0;31mType:\u001b[0m        list\n",
       "\u001b[0;31mString form:\u001b[0m [1, 2, 3]\n",
       "\u001b[0;31mLength:\u001b[0m      3\n",
       "\u001b[0;31mDocstring:\u001b[0m  \n",
       "Built-in mutable sequence.\n",
       "\n",
       "If no argument is given, the constructor creates a new empty list.\n",
       "The argument must be an iterable if specified."
      ]
     },
     "metadata": {},
     "output_type": "display_data"
    }
   ],
   "source": [
    "L?"
   ]
  },
  {
   "cell_type": "code",
   "execution_count": null,
   "id": "693a9d37-ab01-4c21-90ef-fbdc192d37a0",
   "metadata": {},
   "outputs": [],
   "source": [
    "# You can see that __delitem__ deleted the 3rd item which was 4 "
   ]
  },
  {
   "cell_type": "code",
   "execution_count": 32,
   "id": "da0427d5-c750-47df-b543-3621483a3235",
   "metadata": {},
   "outputs": [
    {
     "ename": "ImportError",
     "evalue": "cannot import name 'co' from 'itertools' (unknown location)",
     "output_type": "error",
     "traceback": [
      "\u001b[0;31m---------------------------------------------------------------------------\u001b[0m",
      "\u001b[0;31mImportError\u001b[0m                               Traceback (most recent call last)",
      "Cell \u001b[0;32mIn[32], line 1\u001b[0m\n\u001b[0;32m----> 1\u001b[0m \u001b[38;5;28;01mfrom\u001b[39;00m \u001b[38;5;21;01mitertools\u001b[39;00m \u001b[38;5;28;01mimport\u001b[39;00m co\n",
      "\u001b[0;31mImportError\u001b[0m: cannot import name 'co' from 'itertools' (unknown location)"
     ]
    }
   ],
   "source": [
    "from itertools import co # press tab keyboard when you want to get a result"
   ]
  },
  {
   "cell_type": "code",
   "execution_count": 34,
   "id": "a23b2667-af12-4b49-8781-1a167f0ba790",
   "metadata": {},
   "outputs": [
    {
     "ename": "SyntaxError",
     "evalue": "invalid syntax (4116811366.py, line 1)",
     "output_type": "error",
     "traceback": [
      "\u001b[0;36m  Cell \u001b[0;32mIn[34], line 1\u001b[0;36m\u001b[0m\n\u001b[0;31m    import # pressed tab shows the whole third-part scripts and modules\u001b[0m\n\u001b[0m           ^\u001b[0m\n\u001b[0;31mSyntaxError\u001b[0m\u001b[0;31m:\u001b[0m invalid syntax\n"
     ]
    }
   ],
   "source": [
    "import # pressed tab shows the whole third-part scripts and modules"
   ]
  },
  {
   "cell_type": "code",
   "execution_count": 36,
   "id": "c9415197-d214-4a51-8b24-7687c2a144ab",
   "metadata": {},
   "outputs": [
    {
     "ename": "ModuleNotFoundError",
     "evalue": "No module named 'h'",
     "output_type": "error",
     "traceback": [
      "\u001b[0;31m---------------------------------------------------------------------------\u001b[0m",
      "\u001b[0;31mModuleNotFoundError\u001b[0m                       Traceback (most recent call last)",
      "Cell \u001b[0;32mIn[36], line 1\u001b[0m\n\u001b[0;32m----> 1\u001b[0m \u001b[38;5;28;01mimport\u001b[39;00m \u001b[38;5;21;01mh\u001b[39;00m\n",
      "\u001b[0;31mModuleNotFoundError\u001b[0m: No module named 'h'"
     ]
    }
   ],
   "source": [
    "import h # pressed tab helps you find the exact order that start with h "
   ]
  },
  {
   "cell_type": "code",
   "execution_count": 38,
   "id": "d45304b8-60a6-4ada-9508-a4dbbd9e9d3a",
   "metadata": {},
   "outputs": [
    {
     "data": {
      "text/plain": [
       "BytesWarning\n",
       "DeprecationWarning\n",
       "EncodingWarning\n",
       "FutureWarning\n",
       "ImportWarning\n",
       "PendingDeprecationWarning\n",
       "ResourceWarning\n",
       "RuntimeWarning\n",
       "SyntaxWarning\n",
       "UnicodeWarning\n",
       "UserWarning\n",
       "Warning"
      ]
     },
     "metadata": {},
     "output_type": "display_data"
    }
   ],
   "source": [
    "*Warning?  # beyond tab completion: Wildcard matching "
   ]
  },
  {
   "cell_type": "code",
   "execution_count": 40,
   "id": "51201dd9-7e9a-4480-946c-f2b50bea5584",
   "metadata": {},
   "outputs": [
    {
     "data": {
      "text/plain": [
       "str.find\n",
       "str.rfind"
      ]
     },
     "metadata": {},
     "output_type": "display_data"
    }
   ],
   "source": [
    "str.*find*?   # suppose we're looking for a string method that contains the word\n",
    "# find somewhere it its name."
   ]
  },
  {
   "cell_type": "code",
   "execution_count": null,
   "id": "52ea1bbf-9695-470f-891f-6d75124e2234",
   "metadata": {},
   "outputs": [],
   "source": [
    "# he asdasdasdasdsadadad    \n",
    "\n",
    "\n",
    "# ctrl + d --> delete next character in line \n",
    "# ctrl + k --> cut text from cursor to end of line \n",
    "# ctrl + u --> cut text from beginning of line to cursor \n",
    "# ctrl + y --> yank ( ..paste) etxt that was previously cut \n",
    "# ctrl + t --> Transpose (...switch) previous two characters\n",
    "\n",
    "asdsasassa"
   ]
  },
  {
   "cell_type": "code",
   "execution_count": 19,
   "id": "f64a2b31-adaa-49e8-ba21-4e6f10a78b88",
   "metadata": {},
   "outputs": [],
   "source": [
    "def func1(a,b):\n",
    "    return a / b\n",
    "\n",
    "def func2(x):\n",
    "    a = x\n",
    "    b = x - 1 \n",
    "    return func1(a,b)\n",
    "    "
   ]
  },
  {
   "cell_type": "code",
   "execution_count": 21,
   "id": "bf8fe39e-9c28-4ee8-a126-d2165b37710c",
   "metadata": {},
   "outputs": [
    {
     "ename": "ZeroDivisionError",
     "evalue": "division by zero",
     "output_type": "error",
     "traceback": [
      "\u001b[0;31m---------------------------------------------------------------------------\u001b[0m",
      "\u001b[0;31mZeroDivisionError\u001b[0m                         Traceback (most recent call last)",
      "Cell \u001b[0;32mIn[21], line 1\u001b[0m\n\u001b[0;32m----> 1\u001b[0m func2(\u001b[38;5;241m1\u001b[39m)\n",
      "Cell \u001b[0;32mIn[19], line 7\u001b[0m, in \u001b[0;36mfunc2\u001b[0;34m(x=1)\u001b[0m\n\u001b[1;32m      5\u001b[0m a \u001b[38;5;241m=\u001b[39m x\n\u001b[1;32m      6\u001b[0m b \u001b[38;5;241m=\u001b[39m x \u001b[38;5;241m-\u001b[39m \u001b[38;5;241m1\u001b[39m \n\u001b[0;32m----> 7\u001b[0m \u001b[38;5;28;01mreturn\u001b[39;00m func1(a,b)\n        a \u001b[0;34m= 1\u001b[0m\u001b[0;34m\n        \u001b[0mb \u001b[0;34m= 0\u001b[0m\n",
      "Cell \u001b[0;32mIn[19], line 2\u001b[0m, in \u001b[0;36mfunc1\u001b[0;34m(a=1, b=0)\u001b[0m\n\u001b[1;32m      1\u001b[0m \u001b[38;5;28;01mdef\u001b[39;00m \u001b[38;5;21mfunc1\u001b[39m(a,b):\n\u001b[0;32m----> 2\u001b[0m     \u001b[38;5;28;01mreturn\u001b[39;00m a \u001b[38;5;241m/\u001b[39m b\n        a \u001b[0;34m= 1\u001b[0m\u001b[0;34m\n        \u001b[0mb \u001b[0;34m= 0\u001b[0m\n",
      "\u001b[0;31mZeroDivisionError\u001b[0m: division by zero"
     ]
    }
   ],
   "source": [
    "func2(1)\n"
   ]
  },
  {
   "cell_type": "code",
   "execution_count": 23,
   "id": "1b8d4d39-4642-4b68-9e1d-a1114e38f229",
   "metadata": {},
   "outputs": [],
   "source": [
    "def func2(x):\n",
    "    a = x"
   ]
  },
  {
   "cell_type": "markdown",
   "id": "5358b6e9-8afe-4043-9357-abd1eded7a1d",
   "metadata": {},
   "source": [
    "%xmode Plain"
   ]
  },
  {
   "cell_type": "code",
   "execution_count": 27,
   "id": "76b3099f-5352-4626-862f-70d47203d710",
   "metadata": {},
   "outputs": [],
   "source": [
    "func2(1)"
   ]
  },
  {
   "cell_type": "code",
   "execution_count": 29,
   "id": "43f8c32f-20a0-408a-88c7-857219eb24c1",
   "metadata": {},
   "outputs": [
    {
     "name": "stdout",
     "output_type": "stream",
     "text": [
      "Exception reporting mode: Verbose\n"
     ]
    }
   ],
   "source": [
    "%xmode Verbose"
   ]
  },
  {
   "cell_type": "code",
   "execution_count": 36,
   "id": "70ad02d9-a7a6-43aa-ad68-8f8ac9ee10a0",
   "metadata": {},
   "outputs": [],
   "source": [
    "func2(1)"
   ]
  },
  {
   "cell_type": "code",
   "execution_count": null,
   "id": "bfe6e853-bcc8-4776-bb64-87403f63df33",
   "metadata": {},
   "outputs": [
    {
     "name": "stdout",
     "output_type": "stream",
     "text": [
      "> \u001b[0;32m/opt/anaconda3/lib/python3.12/site-packages/ipykernel/kernelbase.py\u001b[0m(1305)\u001b[0;36m_input_request\u001b[0;34m()\u001b[0m\n",
      "\u001b[0;32m   1303 \u001b[0;31m                \u001b[0;31m# re-raise KeyboardInterrupt, to truncate traceback\u001b[0m\u001b[0;34m\u001b[0m\u001b[0;34m\u001b[0m\u001b[0m\n",
      "\u001b[0m\u001b[0;32m   1304 \u001b[0;31m                \u001b[0mmsg\u001b[0m \u001b[0;34m=\u001b[0m \u001b[0;34m\"Interrupted by user\"\u001b[0m\u001b[0;34m\u001b[0m\u001b[0;34m\u001b[0m\u001b[0m\n",
      "\u001b[0m\u001b[0;32m-> 1305 \u001b[0;31m                \u001b[0;32mraise\u001b[0m \u001b[0mKeyboardInterrupt\u001b[0m\u001b[0;34m(\u001b[0m\u001b[0mmsg\u001b[0m\u001b[0;34m)\u001b[0m \u001b[0;32mfrom\u001b[0m \u001b[0;32mNone\u001b[0m\u001b[0;34m\u001b[0m\u001b[0;34m\u001b[0m\u001b[0m\n",
      "\u001b[0m\u001b[0;32m   1306 \u001b[0;31m            \u001b[0;32mexcept\u001b[0m \u001b[0mException\u001b[0m\u001b[0;34m:\u001b[0m\u001b[0;34m\u001b[0m\u001b[0;34m\u001b[0m\u001b[0m\n",
      "\u001b[0m\u001b[0;32m   1307 \u001b[0;31m                \u001b[0mself\u001b[0m\u001b[0;34m.\u001b[0m\u001b[0mlog\u001b[0m\u001b[0;34m.\u001b[0m\u001b[0mwarning\u001b[0m\u001b[0;34m(\u001b[0m\u001b[0;34m\"Invalid Message:\"\u001b[0m\u001b[0;34m,\u001b[0m \u001b[0mexc_info\u001b[0m\u001b[0;34m=\u001b[0m\u001b[0;32mTrue\u001b[0m\u001b[0;34m)\u001b[0m\u001b[0;34m\u001b[0m\u001b[0;34m\u001b[0m\u001b[0m\n",
      "\u001b[0m\n"
     ]
    },
    {
     "name": "stdin",
     "output_type": "stream",
     "text": [
      "ipdb>  \n",
      "ipdb>  \n",
      "ipdb>  up\n"
     ]
    },
    {
     "name": "stdout",
     "output_type": "stream",
     "text": [
      "> \u001b[0;32m/opt/anaconda3/lib/python3.12/site-packages/ipykernel/kernelbase.py\u001b[0m(1262)\u001b[0;36mraw_input\u001b[0;34m()\u001b[0m\n",
      "\u001b[0;32m   1260 \u001b[0;31m            \u001b[0mmsg\u001b[0m \u001b[0;34m=\u001b[0m \u001b[0;34m\"raw_input was called, but this frontend does not support input requests.\"\u001b[0m\u001b[0;34m\u001b[0m\u001b[0;34m\u001b[0m\u001b[0m\n",
      "\u001b[0m\u001b[0;32m   1261 \u001b[0;31m            \u001b[0;32mraise\u001b[0m \u001b[0mStdinNotImplementedError\u001b[0m\u001b[0;34m(\u001b[0m\u001b[0mmsg\u001b[0m\u001b[0;34m)\u001b[0m\u001b[0;34m\u001b[0m\u001b[0;34m\u001b[0m\u001b[0m\n",
      "\u001b[0m\u001b[0;32m-> 1262 \u001b[0;31m        return self._input_request(\n",
      "\u001b[0m\u001b[0;32m   1263 \u001b[0;31m            \u001b[0mstr\u001b[0m\u001b[0;34m(\u001b[0m\u001b[0mprompt\u001b[0m\u001b[0;34m)\u001b[0m\u001b[0;34m,\u001b[0m\u001b[0;34m\u001b[0m\u001b[0;34m\u001b[0m\u001b[0m\n",
      "\u001b[0m\u001b[0;32m   1264 \u001b[0;31m            \u001b[0mself\u001b[0m\u001b[0;34m.\u001b[0m\u001b[0m_parent_ident\u001b[0m\u001b[0;34m[\u001b[0m\u001b[0;34m\"shell\"\u001b[0m\u001b[0;34m]\u001b[0m\u001b[0;34m,\u001b[0m\u001b[0;34m\u001b[0m\u001b[0;34m\u001b[0m\u001b[0m\n",
      "\u001b[0m\n"
     ]
    },
    {
     "name": "stdin",
     "output_type": "stream",
     "text": [
      "ipdb>  down\n"
     ]
    },
    {
     "name": "stdout",
     "output_type": "stream",
     "text": [
      "> \u001b[0;32m/opt/anaconda3/lib/python3.12/site-packages/ipykernel/kernelbase.py\u001b[0m(1305)\u001b[0;36m_input_request\u001b[0;34m()\u001b[0m\n",
      "\u001b[0;32m   1303 \u001b[0;31m                \u001b[0;31m# re-raise KeyboardInterrupt, to truncate traceback\u001b[0m\u001b[0;34m\u001b[0m\u001b[0;34m\u001b[0m\u001b[0m\n",
      "\u001b[0m\u001b[0;32m   1304 \u001b[0;31m                \u001b[0mmsg\u001b[0m \u001b[0;34m=\u001b[0m \u001b[0;34m\"Interrupted by user\"\u001b[0m\u001b[0;34m\u001b[0m\u001b[0;34m\u001b[0m\u001b[0m\n",
      "\u001b[0m\u001b[0;32m-> 1305 \u001b[0;31m                \u001b[0;32mraise\u001b[0m \u001b[0mKeyboardInterrupt\u001b[0m\u001b[0;34m(\u001b[0m\u001b[0mmsg\u001b[0m\u001b[0;34m)\u001b[0m \u001b[0;32mfrom\u001b[0m \u001b[0;32mNone\u001b[0m\u001b[0;34m\u001b[0m\u001b[0;34m\u001b[0m\u001b[0m\n",
      "\u001b[0m\u001b[0;32m   1306 \u001b[0;31m            \u001b[0;32mexcept\u001b[0m \u001b[0mException\u001b[0m\u001b[0;34m:\u001b[0m\u001b[0;34m\u001b[0m\u001b[0;34m\u001b[0m\u001b[0m\n",
      "\u001b[0m\u001b[0;32m   1307 \u001b[0;31m                \u001b[0mself\u001b[0m\u001b[0;34m.\u001b[0m\u001b[0mlog\u001b[0m\u001b[0;34m.\u001b[0m\u001b[0mwarning\u001b[0m\u001b[0;34m(\u001b[0m\u001b[0;34m\"Invalid Message:\"\u001b[0m\u001b[0;34m,\u001b[0m \u001b[0mexc_info\u001b[0m\u001b[0;34m=\u001b[0m\u001b[0;32mTrue\u001b[0m\u001b[0;34m)\u001b[0m\u001b[0;34m\u001b[0m\u001b[0;34m\u001b[0m\u001b[0m\n",
      "\u001b[0m\n"
     ]
    },
    {
     "name": "stdin",
     "output_type": "stream",
     "text": [
      "ipdb>  print(x)\n"
     ]
    },
    {
     "name": "stdout",
     "output_type": "stream",
     "text": [
      "*** NameError: name 'x' is not defined\n"
     ]
    },
    {
     "name": "stdin",
     "output_type": "stream",
     "text": [
      "ipdb>  up\n"
     ]
    },
    {
     "name": "stdout",
     "output_type": "stream",
     "text": [
      "> \u001b[0;32m/opt/anaconda3/lib/python3.12/site-packages/ipykernel/kernelbase.py\u001b[0m(1262)\u001b[0;36mraw_input\u001b[0;34m()\u001b[0m\n",
      "\u001b[0;32m   1260 \u001b[0;31m            \u001b[0mmsg\u001b[0m \u001b[0;34m=\u001b[0m \u001b[0;34m\"raw_input was called, but this frontend does not support input requests.\"\u001b[0m\u001b[0;34m\u001b[0m\u001b[0;34m\u001b[0m\u001b[0m\n",
      "\u001b[0m\u001b[0;32m   1261 \u001b[0;31m            \u001b[0;32mraise\u001b[0m \u001b[0mStdinNotImplementedError\u001b[0m\u001b[0;34m(\u001b[0m\u001b[0mmsg\u001b[0m\u001b[0;34m)\u001b[0m\u001b[0;34m\u001b[0m\u001b[0;34m\u001b[0m\u001b[0m\n",
      "\u001b[0m\u001b[0;32m-> 1262 \u001b[0;31m        return self._input_request(\n",
      "\u001b[0m\u001b[0;32m   1263 \u001b[0;31m            \u001b[0mstr\u001b[0m\u001b[0;34m(\u001b[0m\u001b[0mprompt\u001b[0m\u001b[0;34m)\u001b[0m\u001b[0;34m,\u001b[0m\u001b[0;34m\u001b[0m\u001b[0;34m\u001b[0m\u001b[0m\n",
      "\u001b[0m\u001b[0;32m   1264 \u001b[0;31m            \u001b[0mself\u001b[0m\u001b[0;34m.\u001b[0m\u001b[0m_parent_ident\u001b[0m\u001b[0;34m[\u001b[0m\u001b[0;34m\"shell\"\u001b[0m\u001b[0;34m]\u001b[0m\u001b[0;34m,\u001b[0m\u001b[0;34m\u001b[0m\u001b[0;34m\u001b[0m\u001b[0m\n",
      "\u001b[0m\n"
     ]
    }
   ],
   "source": [
    "%debug"
   ]
  },
  {
   "cell_type": "code",
   "execution_count": 10,
   "id": "d66a984d-1c6a-48b8-a533-1058c0154ae1",
   "metadata": {},
   "outputs": [
    {
     "name": "stdout",
     "output_type": "stream",
     "text": [
      "CPU times: user 111 ms, sys: 3.66 ms, total: 115 ms\n",
      "Wall time: 119 ms\n"
     ]
    }
   ],
   "source": [
    "%%time\n",
    "total = 0\n",
    "for i in range(1000):\n",
    "    for j in range(1000):\n",
    "        total += i * (-1) ** j\n",
    "        "
   ]
  },
  {
   "cell_type": "code",
   "execution_count": 5,
   "id": "859f3334-0a22-4fb5-8df9-73113f8e4029",
   "metadata": {},
   "outputs": [],
   "source": [
    "def sum_of_lists(N):\n",
    "    total = 0\n",
    "    for i in range(5):\n",
    "        L = [j ^ (j >> i) for j in range(N)]\n",
    "        total += sum(L)\n",
    "    return total "
   ]
  },
  {
   "cell_type": "code",
   "execution_count": 16,
   "id": "bfac142d-6cb3-450f-b84f-13a7c43a0e9e",
   "metadata": {},
   "outputs": [
    {
     "name": "stdout",
     "output_type": "stream",
     "text": [
      " "
     ]
    },
    {
     "data": {
      "text/plain": [
       "         674 function calls (663 primitive calls) in 0.204 seconds\n",
       "\n",
       "   Ordered by: internal time\n",
       "\n",
       "   ncalls  tottime  percall  cumtime  percall filename:lineno(function)\n",
       "        1    0.088    0.088    0.095    0.095 1773548912.py:1(sum_of_lists)\n",
       "       14    0.076    0.005    0.082    0.006 socket.py:621(send)\n",
       "        5    0.013    0.003    0.013    0.003 {built-in method builtins.sum}\n",
       "      2/1    0.012    0.006    0.006    0.006 {method 'control' of 'select.kqueue' objects}\n",
       "        2    0.006    0.003    0.095    0.047 zmqstream.py:607(_handle_events)\n",
       "      4/2    0.004    0.001    0.099    0.049 events.py:86(_run)\n",
       "        1    0.004    0.004    0.099    0.099 <string>:1(<module>)\n",
       "        5    0.000    0.000    0.000    0.000 attrsettr.py:65(_get_attr_opt)\n",
       "        1    0.000    0.000    0.012    0.012 history.py:55(only_when_enabled)\n",
       "        1    0.000    0.000    0.000    0.000 {method 'disable' of '_lsprof.Profiler' objects}\n",
       "       15    0.000    0.000    0.000    0.000 enum.py:1551(__or__)\n",
       "        2    0.000    0.000    0.076    0.038 socket.py:698(send_multipart)\n",
       "       66    0.000    0.000    0.000    0.000 enum.py:1544(_get_value)\n",
       "  143/139    0.000    0.000    0.000    0.000 {built-in method builtins.isinstance}\n",
       "        1    0.000    0.000    0.000    0.000 inspect.py:3129(_bind)\n",
       "       29    0.000    0.000    0.000    0.000 enum.py:726(__call__)\n",
       "        2    0.000    0.000    0.000    0.000 {method 'recv' of '_socket.socket' objects}\n",
       "        5    0.000    0.000    0.000    0.000 attrsettr.py:42(__getattr__)\n",
       "        1    0.000    0.000    0.000    0.000 {method 'execute' of 'sqlite3.Connection' objects}\n",
       "        2    0.000    0.000    0.000    0.000 {method '__exit__' of 'sqlite3.Connection' objects}\n",
       "        2    0.000    0.000    0.000    0.000 socket.py:777(recv_multipart)\n",
       "      4/2    0.000    0.000    0.095    0.047 {method 'run' of '_contextvars.Context' objects}\n",
       "        1    0.000    0.000    0.000    0.000 kernelbase.py:294(poll_control_queue)\n",
       "        1    0.000    0.000    0.000    0.000 selector_events.py:141(_write_to_self)\n",
       "      2/1    0.000    0.000    0.006    0.006 base_events.py:1909(_run_once)\n",
       "        3    0.000    0.000    0.000    0.000 zmqstream.py:710(_update_handler)\n",
       "        3    0.000    0.000    0.000    0.000 zmqstream.py:687(_rebuild_io_state)\n",
       "       29    0.000    0.000    0.000    0.000 enum.py:1129(__new__)\n",
       "        7    0.000    0.000    0.000    0.000 enum.py:1562(__and__)\n",
       "        1    0.000    0.000    0.000    0.000 selector_events.py:129(_read_from_self)\n",
       "        1    0.000    0.000    0.000    0.000 decorator.py:199(fix)\n",
       "        1    0.000    0.000    0.000    0.000 traitlets.py:1527(_notify_observers)\n",
       "        1    0.000    0.000    0.007    0.007 history.py:845(writeout_cache)\n",
       "        1    0.000    0.000    0.000    0.000 queues.py:209(put_nowait)\n",
       "        2    0.000    0.000    0.088    0.044 iostream.py:275(<lambda>)\n",
       "        6    0.000    0.000    0.000    0.000 typing.py:392(inner)\n",
       "        1    0.000    0.000    0.000    0.000 inspect.py:3268(bind)\n",
       "        3    0.000    0.000    0.000    0.000 base_events.py:814(_call_soon)\n",
       "        6    0.000    0.000    0.000    0.000 traitlets.py:676(__get__)\n",
       "        1    0.000    0.000    0.000    0.000 queues.py:186(put)\n",
       "        1    0.000    0.000    0.000    0.000 inspect.py:2945(apply_defaults)\n",
       "        2    0.000    0.000    0.088    0.044 iostream.py:156(_handle_event)\n",
       "        1    0.000    0.000    0.000    0.000 asyncio.py:225(add_callback)\n",
       "        2    0.000    0.000    0.000    0.000 traitlets.py:3631(set)\n",
       "        1    0.000    0.000    0.007    0.007 history.py:833(_writeout_input_cache)\n",
       "        2    0.000    0.000    0.076    0.038 iostream.py:277(_really_send)\n",
       "        1    0.000    0.000    0.000    0.000 threading.py:311(_acquire_restore)\n",
       "        2    0.000    0.000    0.000    0.000 traitlets.py:718(_validate)\n",
       "      2/1    0.000    0.000    0.006    0.006 selectors.py:558(select)\n",
       "        2    0.000    0.000    0.000    0.000 traitlets.py:689(set)\n",
       "        1    0.000    0.000    0.000    0.000 {method 'send' of '_socket.socket' objects}\n",
       "        1    0.000    0.000    0.000    0.000 queues.py:225(get)\n",
       "        2    0.000    0.000    0.000    0.000 queues.py:322(_consume_expired)\n",
       "        1    0.000    0.000    0.000    0.000 _base.py:537(set_result)\n",
       "       10    0.000    0.000    0.000    0.000 {built-in method builtins.hasattr}\n",
       "        2    0.000    0.000    0.000    0.000 traitlets.py:727(_cross_validate)\n",
       "        2    0.000    0.000    0.000    0.000 traitlets.py:3474(validate)\n",
       "        6    0.000    0.000    0.000    0.000 traitlets.py:629(get)\n",
       "        3    0.000    0.000    0.000    0.000 events.py:36(__init__)\n",
       "        3    0.000    0.000    0.000    0.000 queue.py:97(empty)\n",
       "        1    0.000    0.000    0.013    0.013 decorator.py:229(fun)\n",
       "        5    0.000    0.000    0.000    0.000 <frozen importlib._bootstrap>:1390(_handle_fromlist)\n",
       "        1    0.000    0.000    0.000    0.000 traitlets.py:1512(_notify_trait)\n",
       "        2    0.000    0.000    0.000    0.000 traitlets.py:3624(validate_elements)\n",
       "        1    0.000    0.000    0.000    0.000 concurrent.py:182(future_set_result_unless_cancelled)\n",
       "        3    0.000    0.000    0.000    0.000 threading.py:299(__enter__)\n",
       "        1    0.000    0.000    0.000    0.000 inspect.py:2892(args)\n",
       "        2    0.000    0.000    0.000    0.000 base_events.py:785(call_soon)\n",
       "        1    0.000    0.000    0.000    0.000 traitlets.py:1523(notify_change)\n",
       "        3    0.000    0.000    0.000    0.000 threading.py:302(__exit__)\n",
       "        2    0.000    0.000    0.088    0.044 zmqstream.py:580(_run_callback)\n",
       "        2    0.000    0.000    0.000    0.000 {method 'set_result' of '_asyncio.Future' objects}\n",
       "        1    0.000    0.000    0.099    0.099 {built-in method builtins.exec}\n",
       "        5    0.000    0.000    0.000    0.000 {built-in method builtins.getattr}\n",
       "        2    0.000    0.000    0.000    0.000 traitlets.py:2304(validate)\n",
       "       16    0.000    0.000    0.000    0.000 {built-in method builtins.len}\n",
       "        2    0.000    0.000    0.000    0.000 typing.py:1492(__subclasscheck__)\n",
       "        2    0.000    0.000    0.000    0.000 traitlets.py:708(__set__)\n",
       "        6    0.000    0.000    0.000    0.000 {built-in method builtins.next}\n",
       "        4    0.000    0.000    0.000    0.000 base_events.py:734(time)\n",
       "        4    0.000    0.000    0.000    0.000 typing.py:1285(__hash__)\n",
       "        3    0.000    0.000    0.000    0.000 queue.py:209(_qsize)\n",
       "        2    0.000    0.000    0.088    0.044 zmqstream.py:648(_handle_recv)\n",
       "        1    0.000    0.000    0.000    0.000 threading.py:627(clear)\n",
       "        1    0.000    0.000    0.000    0.000 futures.py:398(_call_set_state)\n",
       "        2    0.000    0.000    0.000    0.000 iostream.py:212(_is_master_process)\n",
       "        3    0.000    0.000    0.000    0.000 selector_events.py:750(_process_events)\n",
       "       24    0.000    0.000    0.000    0.000 typing.py:2182(cast)\n",
       "        3    0.000    0.000    0.000    0.000 zmqstream.py:566(sending)\n",
       "        1    0.000    0.000    0.000    0.000 queues.py:317(__put_internal)\n",
       "        1    0.000    0.000    0.095    0.095 asyncio.py:200(_handle_events)\n",
       "        8    0.000    0.000    0.000    0.000 {method 'popleft' of 'collections.deque' objects}\n",
       "        1    0.000    0.000    0.000    0.000 threading.py:424(notify_all)\n",
       "        7    0.000    0.000    0.000    0.000 {method 'append' of 'collections.deque' objects}\n",
       "        3    0.000    0.000    0.000    0.000 {method 'acquire' of '_thread.lock' objects}\n",
       "        1    0.000    0.000    0.000    0.000 inspect.py:2915(kwargs)\n",
       "        2    0.000    0.000    0.000    0.000 typing.py:1221(__instancecheck__)\n",
       "        1    0.000    0.000    0.000    0.000 _base.py:337(_invoke_callbacks)\n",
       "        1    0.000    0.000    0.000    0.000 base_events.py:838(call_soon_threadsafe)\n",
       "        1    0.000    0.000    0.000    0.000 queues.py:256(get_nowait)\n",
       "        4    0.000    0.000    0.000    0.000 {built-in method builtins.max}\n",
       "        1    0.000    0.000    0.000    0.000 history.py:839(_writeout_output_cache)\n",
       "        7    0.000    0.000    0.000    0.000 {method '__exit__' of '_thread.lock' objects}\n",
       "        5    0.000    0.000    0.000    0.000 {method 'append' of 'list' objects}\n",
       "        4    0.000    0.000    0.000    0.000 {method 'get' of 'dict' objects}\n",
       "        1    0.000    0.000    0.000    0.000 queues.py:177(empty)\n",
       "        1    0.000    0.000    0.000    0.000 {method 'values' of 'mappingproxy' objects}\n",
       "        3    0.000    0.000    0.000    0.000 {method 'items' of 'mappingproxy' objects}\n",
       "        5    0.000    0.000    0.000    0.000 {method 'upper' of 'str' objects}\n",
       "        2    0.000    0.000    0.000    0.000 {built-in method _abc._abc_subclasscheck}\n",
       "        1    0.000    0.000    0.000    0.000 threading.py:394(notify)\n",
       "        1    0.000    0.000    0.000    0.000 queues.py:312(_put)\n",
       "        2    0.000    0.000    0.000    0.000 {built-in method builtins.issubclass}\n",
       "        1    0.000    0.000    0.000    0.000 threading.py:308(_release_save)\n",
       "        2    0.000    0.000    0.000    0.000 iostream.py:215(_check_mp_mode)\n",
       "        1    0.000    0.000    0.000    0.000 ioloop.py:742(_run_callback)\n",
       "       10    0.000    0.000    0.000    0.000 inspect.py:2804(kind)\n",
       "        1    0.000    0.000    0.000    0.000 {built-in method _thread.allocate_lock}\n",
       "        2    0.000    0.000    0.000    0.000 <frozen abc>:121(__subclasscheck__)\n",
       "        1    0.000    0.000    0.000    0.000 queues.py:309(_get)\n",
       "        4    0.000    0.000    0.000    0.000 {built-in method time.monotonic}\n",
       "        2    0.000    0.000    0.000    0.000 traitlets.py:3486(validate_elements)\n",
       "        1    0.000    0.000    0.000    0.000 {built-in method _asyncio.get_running_loop}\n",
       "        2    0.000    0.000    0.000    0.000 {built-in method _contextvars.copy_context}\n",
       "        2    0.000    0.000    0.000    0.000 {built-in method builtins.iter}\n",
       "        5    0.000    0.000    0.000    0.000 zmqstream.py:562(receiving)\n",
       "        2    0.000    0.000    0.000    0.000 {method '__enter__' of '_thread.lock' objects}\n",
       "        1    0.000    0.000    0.000    0.000 {method '__enter__' of '_thread.RLock' objects}\n",
       "        4    0.000    0.000    0.000    0.000 inspect.py:2792(name)\n",
       "        2    0.000    0.000    0.000    0.000 {built-in method posix.getpid}\n",
       "        1    0.000    0.000    0.000    0.000 base_events.py:1894(_add_callback)\n",
       "        5    0.000    0.000    0.000    0.000 base_events.py:2004(get_debug)\n",
       "        4    0.000    0.000    0.000    0.000 {built-in method builtins.hash}\n",
       "        1    0.000    0.000    0.000    0.000 unix_events.py:81(_process_self_data)\n",
       "        2    0.000    0.000    0.000    0.000 {method 'cancelled' of '_asyncio.Future' objects}\n",
       "        1    0.000    0.000    0.000    0.000 selectors.py:275(_key_from_fd)\n",
       "        3    0.000    0.000    0.000    0.000 base_events.py:539(_check_closed)\n",
       "        4    0.000    0.000    0.000    0.000 inspect.py:3085(parameters)\n",
       "        1    0.000    0.000    0.000    0.000 queues.py:173(qsize)\n",
       "        1    0.000    0.000    0.000    0.000 {method 'done' of '_asyncio.Future' objects}\n",
       "        2    0.000    0.000    0.000    0.000 {method 'extend' of 'list' objects}\n",
       "        1    0.000    0.000    0.000    0.000 locks.py:224(clear)\n",
       "        1    0.000    0.000    0.000    0.000 threading.py:314(_is_owned)\n",
       "        1    0.000    0.000    0.000    0.000 zmqstream.py:718(<lambda>)\n",
       "        1    0.000    0.000    0.000    0.000 {built-in method builtins.min}\n",
       "        2    0.000    0.000    0.000    0.000 iostream.py:254(closed)\n",
       "        1    0.000    0.000    0.000    0.000 {method 'release' of '_thread.lock' objects}\n",
       "        1    0.000    0.000    0.000    0.000 inspect.py:2884(__init__)\n",
       "        1    0.000    0.000    0.000    0.000 base_events.py:720(is_closed)\n",
       "        1    0.000    0.000    0.000    0.000 {method '__exit__' of '_thread.RLock' objects}\n",
       "        1    0.000    0.000    0.000    0.000 queues.py:59(_set_timeout)\n",
       "        1    0.000    0.000    0.000    0.000 {method '_is_owned' of '_thread.RLock' objects}"
      ]
     },
     "metadata": {},
     "output_type": "display_data"
    }
   ],
   "source": [
    "%prun sum_of_lists(1000000)"
   ]
  },
  {
   "cell_type": "code",
   "execution_count": 18,
   "id": "5f991af2-0cd5-4aab-9737-0fdaf28142dd",
   "metadata": {},
   "outputs": [
    {
     "name": "stdout",
     "output_type": "stream",
     "text": [
      "Collecting line_profiler\n",
      "  Downloading line_profiler-4.2.0-cp312-cp312-macosx_11_0_arm64.whl.metadata (34 kB)\n",
      "Downloading line_profiler-4.2.0-cp312-cp312-macosx_11_0_arm64.whl (134 kB)\n",
      "Installing collected packages: line_profiler\n",
      "Successfully installed line_profiler-4.2.0\n",
      "Note: you may need to restart the kernel to use updated packages.\n"
     ]
    }
   ],
   "source": [
    "pip install line_profiler"
   ]
  },
  {
   "cell_type": "code",
   "execution_count": 1,
   "id": "b583e954-f2c2-4d20-8464-b4e87ea36485",
   "metadata": {},
   "outputs": [],
   "source": [
    "%load_ext line_profiler"
   ]
  },
  {
   "cell_type": "code",
   "execution_count": 7,
   "id": "12d7afd8-b078-4210-80d8-a7ae57e2a7d1",
   "metadata": {},
   "outputs": [
    {
     "data": {
      "text/plain": [
       "Timer unit: 1e-09 s\n",
       "\n",
       "Total time: 0.011039 s\n",
       "File: /var/folders/j4/qzhh77r553z1scwnh3mxkx200000gn/T/ipykernel_1596/1773548912.py\n",
       "Function: sum_of_lists at line 1\n",
       "\n",
       "Line #      Hits         Time  Per Hit   % Time  Line Contents\n",
       "==============================================================\n",
       "     1                                           def sum_of_lists(N):\n",
       "     2         1       1000.0   1000.0      0.0      total = 0\n",
       "     3         6       4000.0    666.7      0.0      for i in range(5):\n",
       "     4     25005   10854000.0    434.1     98.3          L = [j ^ (j >> i) for j in range(N)]\n",
       "     5         5     179000.0  35800.0      1.6          total += sum(L)\n",
       "     6         1       1000.0   1000.0      0.0      return total"
      ]
     },
     "metadata": {},
     "output_type": "display_data"
    }
   ],
   "source": [
    "%lprun -f sum_of_lists sum_of_lists(5000)"
   ]
  },
  {
   "cell_type": "code",
   "execution_count": 9,
   "id": "681b802e-9a4d-4ff7-bacb-b3a1ec353343",
   "metadata": {},
   "outputs": [
    {
     "name": "stdout",
     "output_type": "stream",
     "text": [
      "Collecting memory_profiler\n",
      "  Downloading memory_profiler-0.61.0-py3-none-any.whl.metadata (20 kB)\n",
      "Requirement already satisfied: psutil in /opt/anaconda3/lib/python3.12/site-packages (from memory_profiler) (5.9.0)\n",
      "Downloading memory_profiler-0.61.0-py3-none-any.whl (31 kB)\n",
      "Installing collected packages: memory_profiler\n",
      "Successfully installed memory_profiler-0.61.0\n",
      "Note: you may need to restart the kernel to use updated packages.\n"
     ]
    }
   ],
   "source": [
    "pip install memory_profiler"
   ]
  },
  {
   "cell_type": "code",
   "execution_count": 11,
   "id": "43bcfb09-9667-48fd-9619-9e22c9057187",
   "metadata": {},
   "outputs": [],
   "source": [
    "%load_ext memory_profiler"
   ]
  },
  {
   "cell_type": "code",
   "execution_count": 13,
   "id": "82049865-6160-421c-bcf1-5cee92e59416",
   "metadata": {},
   "outputs": [
    {
     "name": "stdout",
     "output_type": "stream",
     "text": [
      "peak memory: 239.53 MiB, increment: 75.31 MiB\n"
     ]
    }
   ],
   "source": [
    "%memit sum_of_lists(1000000)"
   ]
  },
  {
   "cell_type": "code",
   "execution_count": 18,
   "id": "8534a11d-8a7c-44ef-8941-d4e7fa1bbe64",
   "metadata": {},
   "outputs": [
    {
     "name": "stdout",
     "output_type": "stream",
     "text": [
      "Overwriting mprun.ipynb\n"
     ]
    }
   ],
   "source": [
    "%%file mprun.ipynb \n",
    "def sum_of_lists(N):\n",
    "    total = 0\n",
    "    for i in range(5):\n",
    "        L = [j ^ (j >> i) for j in range(N)]\n",
    "        total += sum(L)\n",
    "        del L\n",
    "    return total "
   ]
  },
  {
   "cell_type": "raw",
   "id": "cf5222cf-5d72-4b74-949b-4490f6184f91",
   "metadata": {},
   "source": [
    "from mprun_demo import sum_of_lists\n",
    "%mprun -f sum_of_lists sum-of_lists(1000000)"
   ]
  },
  {
   "cell_type": "code",
   "execution_count": 21,
   "id": "0287b06c-3a61-4e71-9040-6e5641d12a2c",
   "metadata": {},
   "outputs": [
    {
     "ename": "ModuleNotFoundError",
     "evalue": "No module named 'mprun_demo'",
     "output_type": "error",
     "traceback": [
      "\u001b[0;31m---------------------------------------------------------------------------\u001b[0m",
      "\u001b[0;31mModuleNotFoundError\u001b[0m                       Traceback (most recent call last)",
      "Cell \u001b[0;32mIn[21], line 1\u001b[0m\n\u001b[0;32m----> 1\u001b[0m \u001b[38;5;28;01mfrom\u001b[39;00m \u001b[38;5;21;01mmprun_demo\u001b[39;00m \u001b[38;5;28;01mimport\u001b[39;00m sum_of_lists\n\u001b[1;32m      2\u001b[0m get_ipython()\u001b[38;5;241m.\u001b[39mrun_line_magic(\u001b[38;5;124m'\u001b[39m\u001b[38;5;124mmprun\u001b[39m\u001b[38;5;124m'\u001b[39m, \u001b[38;5;124m'\u001b[39m\u001b[38;5;124m-f sum_of_lists sum_of_lists(1000000)\u001b[39m\u001b[38;5;124m'\u001b[39m)\n",
      "\u001b[0;31mModuleNotFoundError\u001b[0m: No module named 'mprun_demo'"
     ]
    }
   ],
   "source": [
    "from mprun_demo import sum_of_lists\n",
    "%mprun -f sum_of_lists sum_of_lists(1000000)"
   ]
  },
  {
   "cell_type": "code",
   "execution_count": 23,
   "id": "fa88d051-5e34-41ca-b263-f63ed124394f",
   "metadata": {},
   "outputs": [
    {
     "ename": "SyntaxError",
     "evalue": "invalid syntax (3524706412.py, line 1)",
     "output_type": "error",
     "traceback": [
      "\u001b[0;36m  Cell \u001b[0;32mIn[23], line 1\u001b[0;36m\u001b[0m\n\u001b[0;31m    pip install memory_profiler\u001b[0m\n\u001b[0m        ^\u001b[0m\n\u001b[0;31mSyntaxError\u001b[0m\u001b[0;31m:\u001b[0m invalid syntax\n"
     ]
    }
   ],
   "source": [
    "pip install memory_profiler\n",
    "%load_ext memory_profiler\n",
    "%mprun -f sum_of_lists sum_of_lists(1000000)"
   ]
  },
  {
   "cell_type": "code",
   "execution_count": 25,
   "id": "96161db2-7385-436d-a50a-003ffdd11721",
   "metadata": {},
   "outputs": [
    {
     "name": "stdout",
     "output_type": "stream",
     "text": [
      "Requirement already satisfied: memory_profiler in /opt/anaconda3/lib/python3.12/site-packages (0.61.0)\n",
      "Requirement already satisfied: psutil in /opt/anaconda3/lib/python3.12/site-packages (from memory_profiler) (5.9.0)\n",
      "Note: you may need to restart the kernel to use updated packages.\n"
     ]
    }
   ],
   "source": [
    "pip install memory_profiler"
   ]
  },
  {
   "cell_type": "code",
   "execution_count": 27,
   "id": "f952ba7c-5c3f-42a4-874d-26dad946503e",
   "metadata": {},
   "outputs": [
    {
     "name": "stdout",
     "output_type": "stream",
     "text": [
      "The memory_profiler extension is already loaded. To reload it, use:\n",
      "  %reload_ext memory_profiler\n",
      "ERROR: Could not find file /var/folders/j4/qzhh77r553z1scwnh3mxkx200000gn/T/ipykernel_1596/1773548912.py\n",
      "\n"
     ]
    },
    {
     "data": {
      "text/plain": []
     },
     "metadata": {},
     "output_type": "display_data"
    }
   ],
   "source": [
    "%load_ext memory_profiler\n",
    "%mprun -f sum_of_lists sum_of_lists(1000000)"
   ]
  },
  {
   "cell_type": "code",
   "execution_count": 29,
   "id": "f5d796ed-ece7-4231-b930-d73d30111b05",
   "metadata": {},
   "outputs": [
    {
     "ename": "ModuleNotFoundError",
     "evalue": "No module named 'mprun_demo'",
     "output_type": "error",
     "traceback": [
      "\u001b[0;31m---------------------------------------------------------------------------\u001b[0m",
      "\u001b[0;31mModuleNotFoundError\u001b[0m                       Traceback (most recent call last)",
      "Cell \u001b[0;32mIn[29], line 1\u001b[0m\n\u001b[0;32m----> 1\u001b[0m \u001b[38;5;28;01mfrom\u001b[39;00m \u001b[38;5;21;01mmprun_demo\u001b[39;00m \u001b[38;5;28;01mimport\u001b[39;00m sum_of_lists\n\u001b[1;32m      2\u001b[0m get_ipython()\u001b[38;5;241m.\u001b[39mrun_line_magic(\u001b[38;5;124m'\u001b[39m\u001b[38;5;124mmprun\u001b[39m\u001b[38;5;124m'\u001b[39m, \u001b[38;5;124m'\u001b[39m\u001b[38;5;124m-f sum_of_lists sum_of_lists(1000000)\u001b[39m\u001b[38;5;124m'\u001b[39m)\n",
      "\u001b[0;31mModuleNotFoundError\u001b[0m: No module named 'mprun_demo'"
     ]
    }
   ],
   "source": [
    "from mprun_demo import sum_of_lists\n",
    "%mprun -f sum_of_lists sum_of_lists(1000000)"
   ]
  },
  {
   "cell_type": "code",
   "execution_count": 1,
   "id": "d5749008-d17d-4ce1-b092-092d182434b2",
   "metadata": {},
   "outputs": [],
   "source": [
    "import numpy as np"
   ]
  },
  {
   "cell_type": "code",
   "execution_count": 3,
   "id": "63607e0a-5582-4c37-950c-73bcd6f83e11",
   "metadata": {},
   "outputs": [
    {
     "data": {
      "text/plain": [
       "\u001b[0;31mType:\u001b[0m        module\n",
       "\u001b[0;31mString form:\u001b[0m <module 'numpy' from '/opt/anaconda3/lib/python3.12/site-packages/numpy/__init__.py'>\n",
       "\u001b[0;31mFile:\u001b[0m        /opt/anaconda3/lib/python3.12/site-packages/numpy/__init__.py\n",
       "\u001b[0;31mDocstring:\u001b[0m  \n",
       "NumPy\n",
       "=====\n",
       "\n",
       "Provides\n",
       "  1. An array object of arbitrary homogeneous items\n",
       "  2. Fast mathematical operations over arrays\n",
       "  3. Linear Algebra, Fourier Transforms, Random Number Generation\n",
       "\n",
       "How to use the documentation\n",
       "----------------------------\n",
       "Documentation is available in two forms: docstrings provided\n",
       "with the code, and a loose standing reference guide, available from\n",
       "`the NumPy homepage <https://numpy.org>`_.\n",
       "\n",
       "We recommend exploring the docstrings using\n",
       "`IPython <https://ipython.org>`_, an advanced Python shell with\n",
       "TAB-completion and introspection capabilities.  See below for further\n",
       "instructions.\n",
       "\n",
       "The docstring examples assume that `numpy` has been imported as ``np``::\n",
       "\n",
       "  >>> import numpy as np\n",
       "\n",
       "Code snippets are indicated by three greater-than signs::\n",
       "\n",
       "  >>> x = 42\n",
       "  >>> x = x + 1\n",
       "\n",
       "Use the built-in ``help`` function to view a function's docstring::\n",
       "\n",
       "  >>> help(np.sort)\n",
       "  ... # doctest: +SKIP\n",
       "\n",
       "For some objects, ``np.info(obj)`` may provide additional help.  This is\n",
       "particularly true if you see the line \"Help on ufunc object:\" at the top\n",
       "of the help() page.  Ufuncs are implemented in C, not Python, for speed.\n",
       "The native Python help() does not know how to view their help, but our\n",
       "np.info() function does.\n",
       "\n",
       "To search for documents containing a keyword, do::\n",
       "\n",
       "  >>> np.lookfor('keyword')\n",
       "  ... # doctest: +SKIP\n",
       "\n",
       "General-purpose documents like a glossary and help on the basic concepts\n",
       "of numpy are available under the ``doc`` sub-module::\n",
       "\n",
       "  >>> from numpy import doc\n",
       "  >>> help(doc)\n",
       "  ... # doctest: +SKIP\n",
       "\n",
       "Available subpackages\n",
       "---------------------\n",
       "lib\n",
       "    Basic functions used by several sub-packages.\n",
       "random\n",
       "    Core Random Tools\n",
       "linalg\n",
       "    Core Linear Algebra Tools\n",
       "fft\n",
       "    Core FFT routines\n",
       "polynomial\n",
       "    Polynomial tools\n",
       "testing\n",
       "    NumPy testing tools\n",
       "distutils\n",
       "    Enhancements to distutils with support for\n",
       "    Fortran compilers support and more  (for Python <= 3.11).\n",
       "\n",
       "Utilities\n",
       "---------\n",
       "test\n",
       "    Run numpy unittests\n",
       "show_config\n",
       "    Show numpy build configuration\n",
       "matlib\n",
       "    Make everything matrices.\n",
       "__version__\n",
       "    NumPy version string\n",
       "\n",
       "Viewing documentation using IPython\n",
       "-----------------------------------\n",
       "\n",
       "Start IPython and import `numpy` usually under the alias ``np``: `import\n",
       "numpy as np`.  Then, directly past or use the ``%cpaste`` magic to paste\n",
       "examples into the shell.  To see which functions are available in `numpy`,\n",
       "type ``np.<TAB>`` (where ``<TAB>`` refers to the TAB key), or use\n",
       "``np.*cos*?<ENTER>`` (where ``<ENTER>`` refers to the ENTER key) to narrow\n",
       "down the list.  To view the docstring for a function, use\n",
       "``np.cos?<ENTER>`` (to view the docstring) and ``np.cos??<ENTER>`` (to view\n",
       "the source code).\n",
       "\n",
       "Copies vs. in-place operation\n",
       "-----------------------------\n",
       "Most of the functions in `numpy` return a copy of the array argument\n",
       "(e.g., `np.sort`).  In-place versions of these functions are often\n",
       "available as array methods, i.e. ``x = np.array([1,2,3]); x.sort()``.\n",
       "Exceptions to this rule are documented."
      ]
     },
     "metadata": {},
     "output_type": "display_data"
    }
   ],
   "source": [
    "np?"
   ]
  },
  {
   "cell_type": "code",
   "execution_count": 5,
   "id": "8a3547bf-1d44-4450-b180-5f954bc9c199",
   "metadata": {},
   "outputs": [],
   "source": [
    "# This is the documentaton : --> np? for documentation, np.<TAB> for displaying \n",
    "# all contents "
   ]
  },
  {
   "cell_type": "code",
   "execution_count": 7,
   "id": "fd1a765c-7636-43ff-9884-7ba0c2bb882a",
   "metadata": {},
   "outputs": [],
   "source": [
    "L = list(range(100))"
   ]
  },
  {
   "cell_type": "code",
   "execution_count": 9,
   "id": "068b86da-7e57-42c6-bfcb-cd0e0a53be3b",
   "metadata": {},
   "outputs": [
    {
     "data": {
      "text/plain": [
       "[0,\n",
       " 1,\n",
       " 2,\n",
       " 3,\n",
       " 4,\n",
       " 5,\n",
       " 6,\n",
       " 7,\n",
       " 8,\n",
       " 9,\n",
       " 10,\n",
       " 11,\n",
       " 12,\n",
       " 13,\n",
       " 14,\n",
       " 15,\n",
       " 16,\n",
       " 17,\n",
       " 18,\n",
       " 19,\n",
       " 20,\n",
       " 21,\n",
       " 22,\n",
       " 23,\n",
       " 24,\n",
       " 25,\n",
       " 26,\n",
       " 27,\n",
       " 28,\n",
       " 29,\n",
       " 30,\n",
       " 31,\n",
       " 32,\n",
       " 33,\n",
       " 34,\n",
       " 35,\n",
       " 36,\n",
       " 37,\n",
       " 38,\n",
       " 39,\n",
       " 40,\n",
       " 41,\n",
       " 42,\n",
       " 43,\n",
       " 44,\n",
       " 45,\n",
       " 46,\n",
       " 47,\n",
       " 48,\n",
       " 49,\n",
       " 50,\n",
       " 51,\n",
       " 52,\n",
       " 53,\n",
       " 54,\n",
       " 55,\n",
       " 56,\n",
       " 57,\n",
       " 58,\n",
       " 59,\n",
       " 60,\n",
       " 61,\n",
       " 62,\n",
       " 63,\n",
       " 64,\n",
       " 65,\n",
       " 66,\n",
       " 67,\n",
       " 68,\n",
       " 69,\n",
       " 70,\n",
       " 71,\n",
       " 72,\n",
       " 73,\n",
       " 74,\n",
       " 75,\n",
       " 76,\n",
       " 77,\n",
       " 78,\n",
       " 79,\n",
       " 80,\n",
       " 81,\n",
       " 82,\n",
       " 83,\n",
       " 84,\n",
       " 85,\n",
       " 86,\n",
       " 87,\n",
       " 88,\n",
       " 89,\n",
       " 90,\n",
       " 91,\n",
       " 92,\n",
       " 93,\n",
       " 94,\n",
       " 95,\n",
       " 96,\n",
       " 97,\n",
       " 98,\n",
       " 99]"
      ]
     },
     "execution_count": 9,
     "metadata": {},
     "output_type": "execute_result"
    }
   ],
   "source": [
    "L"
   ]
  },
  {
   "cell_type": "code",
   "execution_count": 11,
   "id": "7f604a3e-17c8-42fa-b92c-d16350b16890",
   "metadata": {},
   "outputs": [
    {
     "data": {
      "text/plain": [
       "int"
      ]
     },
     "execution_count": 11,
     "metadata": {},
     "output_type": "execute_result"
    }
   ],
   "source": [
    "type(L[0])"
   ]
  },
  {
   "cell_type": "code",
   "execution_count": 13,
   "id": "b95b1d3a-ff19-4a15-9442-8221195a3bc8",
   "metadata": {},
   "outputs": [
    {
     "data": {
      "text/plain": [
       "['0',\n",
       " '1',\n",
       " '2',\n",
       " '3',\n",
       " '4',\n",
       " '5',\n",
       " '6',\n",
       " '7',\n",
       " '8',\n",
       " '9',\n",
       " '10',\n",
       " '11',\n",
       " '12',\n",
       " '13',\n",
       " '14',\n",
       " '15',\n",
       " '16',\n",
       " '17',\n",
       " '18',\n",
       " '19',\n",
       " '20',\n",
       " '21',\n",
       " '22',\n",
       " '23',\n",
       " '24',\n",
       " '25',\n",
       " '26',\n",
       " '27',\n",
       " '28',\n",
       " '29',\n",
       " '30',\n",
       " '31',\n",
       " '32',\n",
       " '33',\n",
       " '34',\n",
       " '35',\n",
       " '36',\n",
       " '37',\n",
       " '38',\n",
       " '39',\n",
       " '40',\n",
       " '41',\n",
       " '42',\n",
       " '43',\n",
       " '44',\n",
       " '45',\n",
       " '46',\n",
       " '47',\n",
       " '48',\n",
       " '49',\n",
       " '50',\n",
       " '51',\n",
       " '52',\n",
       " '53',\n",
       " '54',\n",
       " '55',\n",
       " '56',\n",
       " '57',\n",
       " '58',\n",
       " '59',\n",
       " '60',\n",
       " '61',\n",
       " '62',\n",
       " '63',\n",
       " '64',\n",
       " '65',\n",
       " '66',\n",
       " '67',\n",
       " '68',\n",
       " '69',\n",
       " '70',\n",
       " '71',\n",
       " '72',\n",
       " '73',\n",
       " '74',\n",
       " '75',\n",
       " '76',\n",
       " '77',\n",
       " '78',\n",
       " '79',\n",
       " '80',\n",
       " '81',\n",
       " '82',\n",
       " '83',\n",
       " '84',\n",
       " '85',\n",
       " '86',\n",
       " '87',\n",
       " '88',\n",
       " '89',\n",
       " '90',\n",
       " '91',\n",
       " '92',\n",
       " '93',\n",
       " '94',\n",
       " '95',\n",
       " '96',\n",
       " '97',\n",
       " '98',\n",
       " '99']"
      ]
     },
     "execution_count": 13,
     "metadata": {},
     "output_type": "execute_result"
    }
   ],
   "source": [
    "# or similarly a list of strings \n",
    "L2 = [str(c) for c in L]\n",
    "L2"
   ]
  },
  {
   "cell_type": "code",
   "execution_count": 15,
   "id": "e292a410-74d6-4c10-8900-2c116dfe1660",
   "metadata": {},
   "outputs": [
    {
     "data": {
      "text/plain": [
       "str"
      ]
     },
     "execution_count": 15,
     "metadata": {},
     "output_type": "execute_result"
    }
   ],
   "source": [
    "type(L2[0])"
   ]
  },
  {
   "cell_type": "code",
   "execution_count": 17,
   "id": "fa54c3c9-fc55-48c6-aa68-9ca9b8701ec4",
   "metadata": {},
   "outputs": [
    {
     "data": {
      "text/plain": [
       "[bool, str, float, int]"
      ]
     },
     "execution_count": 17,
     "metadata": {},
     "output_type": "execute_result"
    }
   ],
   "source": [
    "L3 = [True, \"2\", 3.0, 4]\n",
    "[type(item) for item in L3]"
   ]
  },
  {
   "cell_type": "code",
   "execution_count": 19,
   "id": "6c0c3ca2-d320-4342-bc5e-33852dd59f52",
   "metadata": {},
   "outputs": [
    {
     "data": {
      "text/plain": [
       "array('i', [0, 1, 2, 3, 4, 5, 6, 7, 8, 9])"
      ]
     },
     "execution_count": 19,
     "metadata": {},
     "output_type": "execute_result"
    }
   ],
   "source": [
    "import array\n",
    "L = list(range(10))\n",
    "A = array.array('i', L)\n",
    "A"
   ]
  },
  {
   "cell_type": "code",
   "execution_count": 21,
   "id": "abc9a785-0eb3-4e4f-9142-c8dd818a1c07",
   "metadata": {},
   "outputs": [
    {
     "data": {
      "text/plain": [
       "array([1, 2, 3, 4, 5])"
      ]
     },
     "execution_count": 21,
     "metadata": {},
     "output_type": "execute_result"
    }
   ],
   "source": [
    "import numpy as np \n",
    "np.array([1,2,3,4,5])\n"
   ]
  },
  {
   "cell_type": "code",
   "execution_count": 23,
   "id": "a4c21323-561e-4eb2-8711-55b2bc1a5f7a",
   "metadata": {},
   "outputs": [
    {
     "data": {
      "text/plain": [
       "array([1., 2., 3., 4., 5.], dtype=float32)"
      ]
     },
     "execution_count": 23,
     "metadata": {},
     "output_type": "execute_result"
    }
   ],
   "source": [
    "# if we want to explicilty set the data type of resulting array, we can use the dtype keyword\n",
    "np.array([1,2,3,4,5], dtype=np.float32)"
   ]
  },
  {
   "cell_type": "code",
   "execution_count": 25,
   "id": "14d376e0-2c39-40ce-a694-3fe67fae2bde",
   "metadata": {},
   "outputs": [
    {
     "data": {
      "text/plain": [
       "array([[2, 3, 4],\n",
       "       [3, 4, 5],\n",
       "       [6, 7, 8]])"
      ]
     },
     "execution_count": 25,
     "metadata": {},
     "output_type": "execute_result"
    }
   ],
   "source": [
    "# Nested lists result in multimensional arrays\n",
    "np.array([range(i, i + 3) for i in [2,3,6]])\n"
   ]
  },
  {
   "cell_type": "code",
   "execution_count": 27,
   "id": "c7462e81-43ba-44bc-be4f-64c5bfa114cb",
   "metadata": {},
   "outputs": [
    {
     "data": {
      "text/plain": [
       "array([0, 0, 0, 0, 0, 0, 0, 0, 0, 0])"
      ]
     },
     "execution_count": 27,
     "metadata": {},
     "output_type": "execute_result"
    }
   ],
   "source": [
    "np.zeros(10, dtype=int)"
   ]
  },
  {
   "cell_type": "code",
   "execution_count": 29,
   "id": "bc914254-25f9-4cc2-bbdf-e789f3fda629",
   "metadata": {},
   "outputs": [
    {
     "data": {
      "text/plain": [
       "array([[1., 1., 1., 1., 1.],\n",
       "       [1., 1., 1., 1., 1.],\n",
       "       [1., 1., 1., 1., 1.]])"
      ]
     },
     "execution_count": 29,
     "metadata": {},
     "output_type": "execute_result"
    }
   ],
   "source": [
    "# Create a 3*5 floating-point array filled with 1s\n",
    "np.ones((3,5), dtype=float)"
   ]
  },
  {
   "cell_type": "code",
   "execution_count": 31,
   "id": "21442a5e-f05d-411e-80db-06ec5b5fbe0e",
   "metadata": {},
   "outputs": [
    {
     "data": {
      "text/plain": [
       "array([[3.14, 3.14, 3.14, 3.14, 3.14],\n",
       "       [3.14, 3.14, 3.14, 3.14, 3.14],\n",
       "       [3.14, 3.14, 3.14, 3.14, 3.14]])"
      ]
     },
     "execution_count": 31,
     "metadata": {},
     "output_type": "execute_result"
    }
   ],
   "source": [
    "# Create a 3*5 array filled with 3.14\n",
    "np.full((3,5), 3.14)"
   ]
  },
  {
   "cell_type": "code",
   "execution_count": 35,
   "id": "c91ee381-43e4-4f11-bee5-70b052cc93a2",
   "metadata": {},
   "outputs": [
    {
     "data": {
      "text/plain": [
       "array([ 0,  2,  4,  6,  8, 10, 12, 14, 16, 18])"
      ]
     },
     "execution_count": 35,
     "metadata": {},
     "output_type": "execute_result"
    }
   ],
   "source": [
    "# Create an array filled with a linear sequence \n",
    "# staring at 0, ending at 20, stepping by 2\n",
    "np.arange(0, 20, 2)"
   ]
  },
  {
   "cell_type": "code",
   "execution_count": 37,
   "id": "9728d1d7-a0ca-4b9c-86d9-9dcace7b9159",
   "metadata": {},
   "outputs": [
    {
     "data": {
      "text/plain": [
       "array([0.  , 0.25, 0.5 , 0.75, 1.  ])"
      ]
     },
     "execution_count": 37,
     "metadata": {},
     "output_type": "execute_result"
    }
   ],
   "source": [
    "# Create an array of five values evenly spaced between 0 and 1\n",
    "np.linspace(0,1,5)"
   ]
  },
  {
   "cell_type": "code",
   "execution_count": 39,
   "id": "d45da2de-2ce5-48d1-b1c7-8aa779d2fab3",
   "metadata": {},
   "outputs": [
    {
     "data": {
      "text/plain": [
       "array([[0.48511178, 0.03861091, 0.57249033],\n",
       "       [0.33927164, 0.4773967 , 0.37606351],\n",
       "       [0.01544222, 0.69649815, 0.11804255]])"
      ]
     },
     "execution_count": 39,
     "metadata": {},
     "output_type": "execute_result"
    }
   ],
   "source": [
    "# Create a 3*3 array of uniformly distributed \n",
    "# pseudorandom values between 0 and 1\n",
    "np.random.random((3,3))"
   ]
  },
  {
   "cell_type": "code",
   "execution_count": 41,
   "id": "92c64ffb-0a7e-44ee-bdc8-99c30e3ac623",
   "metadata": {},
   "outputs": [
    {
     "data": {
      "text/plain": [
       "array([[ 0.16015499,  1.3093985 , -1.71450248],\n",
       "       [-0.69514106, -0.26827589,  0.7421276 ],\n",
       "       [-0.55098135,  1.20633779, -0.42827769]])"
      ]
     },
     "execution_count": 41,
     "metadata": {},
     "output_type": "execute_result"
    }
   ],
   "source": [
    "#  Create a 3*3 array of uniformly distributed \n",
    "# pseudorandom values with mean 0 and standard deviation 1\n",
    "np.random.normal(0,1,(3,3))"
   ]
  },
  {
   "cell_type": "code",
   "execution_count": 45,
   "id": "90fac4ca-043c-4794-9960-078d70198bc5",
   "metadata": {},
   "outputs": [
    {
     "data": {
      "text/plain": [
       "array([[5, 2, 3],\n",
       "       [6, 6, 7],\n",
       "       [0, 2, 6]])"
      ]
     },
     "execution_count": 45,
     "metadata": {},
     "output_type": "execute_result"
    }
   ],
   "source": [
    "# create a 3*3 array of pseudorandom integers in the interval [0, 10)\n",
    "np.random.randint(0,10,(3,3))"
   ]
  },
  {
   "cell_type": "code",
   "execution_count": 47,
   "id": "fec63eaf-d4f7-4ce0-9df8-9a6a2bf22b41",
   "metadata": {},
   "outputs": [
    {
     "data": {
      "text/plain": [
       "array([[1., 0., 0.],\n",
       "       [0., 1., 0.],\n",
       "       [0., 0., 1.]])"
      ]
     },
     "execution_count": 47,
     "metadata": {},
     "output_type": "execute_result"
    }
   ],
   "source": [
    "# Create a 3*3 identity matrix \n",
    "np.eye(3)"
   ]
  },
  {
   "cell_type": "code",
   "execution_count": 61,
   "id": "eb7f18a0-2607-4b3a-aeb5-5f101118f783",
   "metadata": {},
   "outputs": [
    {
     "data": {
      "text/plain": [
       "array([1., 1., 1.])"
      ]
     },
     "execution_count": 61,
     "metadata": {},
     "output_type": "execute_result"
    }
   ],
   "source": [
    "# create an uninitialized array of three integers; the values will be whatever happens\n",
    "# to already exist at that memory location \n",
    "np.empty(3)"
   ]
  },
  {
   "cell_type": "code",
   "execution_count": 63,
   "id": "78839313-ea87-4f5b-b895-d993d223133d",
   "metadata": {},
   "outputs": [
    {
     "data": {
      "text/plain": [
       "array([0, 0, 0, 0, 0, 0, 0, 0, 0, 0], dtype=int16)"
      ]
     },
     "execution_count": 63,
     "metadata": {},
     "output_type": "execute_result"
    }
   ],
   "source": [
    "np.zeros(10, dtype='int16')"
   ]
  },
  {
   "cell_type": "code",
   "execution_count": 65,
   "id": "d582ea4a-10cb-42ad-995e-7fb4953adf64",
   "metadata": {},
   "outputs": [
    {
     "data": {
      "text/plain": [
       "array([0, 0, 0, 0, 0, 0, 0, 0, 0, 0], dtype=int16)"
      ]
     },
     "execution_count": 65,
     "metadata": {},
     "output_type": "execute_result"
    }
   ],
   "source": [
    "# or using the associated NumPy object:\n",
    "np.zeros(10, dtype=np.int16)"
   ]
  },
  {
   "cell_type": "code",
   "execution_count": 67,
   "id": "a55ce8d4-9632-40f4-836b-388c6dad5858",
   "metadata": {},
   "outputs": [],
   "source": [
    "# see the same result\n"
   ]
  },
  {
   "cell_type": "code",
   "execution_count": 71,
   "id": "f628955e-4bbe-4638-b3e1-6542ca8a068f",
   "metadata": {},
   "outputs": [],
   "source": [
    "import numpy as np \n",
    "\n",
    "rng = np.random.default_rng(seed=1701) # seed for reproducibility\n",
    "\n",
    "x1 = rng.integers(10, size=6) # one-dimensional array\n",
    "x2 = rng.integers(10, size=(3,4)) # two-dimensional array\n",
    "x3 = rng.integers(10, size=(3,4,5)) # three-dimensional array"
   ]
  },
  {
   "cell_type": "code",
   "execution_count": 73,
   "id": "e37186f0-c25e-4d73-96a2-8179be4c1313",
   "metadata": {},
   "outputs": [
    {
     "name": "stdout",
     "output_type": "stream",
     "text": [
      "x3 ndim:  3\n",
      "x3 shape:  (3, 4, 5)\n",
      "x3 size:  60\n",
      "dtype:    int64\n"
     ]
    }
   ],
   "source": [
    "print(\"x3 ndim: \", x3.ndim)\n",
    "print(\"x3 shape: \", x3.shape)\n",
    "print(\"x3 size: \", x3.size)  # 3 layers, 4 rows and each row has 5 columns 3*4*5=60\n",
    "print(\"dtype:   \", x3.dtype)\n",
    "\n"
   ]
  },
  {
   "cell_type": "code",
   "execution_count": 75,
   "id": "5a437334-55aa-4c59-945f-da3b5057616a",
   "metadata": {},
   "outputs": [
    {
     "data": {
      "text/plain": [
       "array([9, 4, 0, 3, 8, 6])"
      ]
     },
     "execution_count": 75,
     "metadata": {},
     "output_type": "execute_result"
    }
   ],
   "source": [
    "x1"
   ]
  },
  {
   "cell_type": "code",
   "execution_count": 77,
   "id": "8d6a2821-779c-4855-9538-96acd148d4c6",
   "metadata": {},
   "outputs": [
    {
     "data": {
      "text/plain": [
       "9"
      ]
     },
     "execution_count": 77,
     "metadata": {},
     "output_type": "execute_result"
    }
   ],
   "source": [
    "x1[0]"
   ]
  },
  {
   "cell_type": "code",
   "execution_count": 79,
   "id": "e1033c96-1d23-44b4-ae5b-b6e050f6e639",
   "metadata": {},
   "outputs": [
    {
     "data": {
      "text/plain": [
       "8"
      ]
     },
     "execution_count": 79,
     "metadata": {},
     "output_type": "execute_result"
    }
   ],
   "source": [
    "x1[4]"
   ]
  },
  {
   "cell_type": "code",
   "execution_count": 81,
   "id": "a6fee301-90eb-4fb6-a16f-5cba0bfe61e6",
   "metadata": {},
   "outputs": [
    {
     "data": {
      "text/plain": [
       "6"
      ]
     },
     "execution_count": 81,
     "metadata": {},
     "output_type": "execute_result"
    }
   ],
   "source": [
    "x1[-1]"
   ]
  },
  {
   "cell_type": "code",
   "execution_count": 83,
   "id": "86402050-5814-4527-96d8-acf9df2d4468",
   "metadata": {},
   "outputs": [
    {
     "data": {
      "text/plain": [
       "8"
      ]
     },
     "execution_count": 83,
     "metadata": {},
     "output_type": "execute_result"
    }
   ],
   "source": [
    "# index from the end of the arrays, you can use negative indices \n",
    "x1[-2]  # array([9, 4, 0, 3, 8, 6])"
   ]
  },
  {
   "cell_type": "code",
   "execution_count": 85,
   "id": "2ea02ffb-baf4-47ea-8dd6-020cc05a45d5",
   "metadata": {},
   "outputs": [
    {
     "data": {
      "text/plain": [
       "array([[3, 1, 3, 7],\n",
       "       [4, 0, 2, 3],\n",
       "       [0, 0, 6, 9]])"
      ]
     },
     "execution_count": 85,
     "metadata": {},
     "output_type": "execute_result"
    }
   ],
   "source": [
    "x2"
   ]
  },
  {
   "cell_type": "code",
   "execution_count": 89,
   "id": "8967b3d6-80aa-43f3-b3d1-952e9a031ec1",
   "metadata": {},
   "outputs": [
    {
     "data": {
      "text/plain": [
       "3"
      ]
     },
     "execution_count": 89,
     "metadata": {},
     "output_type": "execute_result"
    }
   ],
   "source": [
    "x2[0,0]  # [0,0] means first row and first column "
   ]
  },
  {
   "cell_type": "code",
   "execution_count": 91,
   "id": "88f91702-47a6-4174-8382-880259f1c97f",
   "metadata": {},
   "outputs": [
    {
     "data": {
      "text/plain": [
       "9"
      ]
     },
     "execution_count": 91,
     "metadata": {},
     "output_type": "execute_result"
    }
   ],
   "source": [
    "x2[2,-1]  # -1 means at the end of the arrays, 2 means the third rows because it counts 0,1,2"
   ]
  },
  {
   "cell_type": "code",
   "execution_count": 93,
   "id": "ed85b97b-acbf-4659-a267-06eb6c1e2ffd",
   "metadata": {},
   "outputs": [],
   "source": [
    "x2[0,0] = 12 # means first row and first column is equal to 12, so when you\n",
    "# run the code it displays [12...]"
   ]
  },
  {
   "cell_type": "code",
   "execution_count": 95,
   "id": "0bca0a9c-c8c9-418a-bd94-331a4cc9c1fb",
   "metadata": {},
   "outputs": [
    {
     "data": {
      "text/plain": [
       "array([3, 4, 0, 3, 8, 6])"
      ]
     },
     "execution_count": 95,
     "metadata": {},
     "output_type": "execute_result"
    }
   ],
   "source": [
    "x1[0] = 3.14  # here is truncated to 3 \n",
    "x1"
   ]
  },
  {
   "cell_type": "code",
   "execution_count": 97,
   "id": "2c7af3bb-bc26-4a12-8d02-4e30f9ec7769",
   "metadata": {},
   "outputs": [
    {
     "data": {
      "text/plain": [
       "array([3, 4, 0, 3, 8, 6])"
      ]
     },
     "execution_count": 97,
     "metadata": {},
     "output_type": "execute_result"
    }
   ],
   "source": [
    "x1"
   ]
  },
  {
   "cell_type": "markdown",
   "id": "70d13ae5-4c14-4bca-880a-cef9b9adc925",
   "metadata": {},
   "source": [
    "x1[:3] # the first 3 elements\n"
   ]
  },
  {
   "cell_type": "code",
   "execution_count": 105,
   "id": "e40c2956-bce9-482e-a305-9606bdf0eb19",
   "metadata": {},
   "outputs": [
    {
     "data": {
      "text/plain": [
       "array([3, 8, 6])"
      ]
     },
     "execution_count": 105,
     "metadata": {},
     "output_type": "execute_result"
    }
   ],
   "source": [
    "x1[3:] # elements after index 3"
   ]
  },
  {
   "cell_type": "code",
   "execution_count": 107,
   "id": "3a2ed203-c8e9-4657-9401-4786792ecb3b",
   "metadata": {},
   "outputs": [
    {
     "data": {
      "text/plain": [
       "array([4, 0, 3])"
      ]
     },
     "execution_count": 107,
     "metadata": {},
     "output_type": "execute_result"
    }
   ],
   "source": [
    "x1[1:4] # middle subarray 4 includes but 4th element 8 not include"
   ]
  },
  {
   "cell_type": "code",
   "execution_count": 109,
   "id": "dfe2b854-acde-45db-af13-37853cf58126",
   "metadata": {},
   "outputs": [
    {
     "data": {
      "text/plain": [
       "array([3, 0, 8])"
      ]
     },
     "execution_count": 109,
     "metadata": {},
     "output_type": "execute_result"
    }
   ],
   "source": [
    "x1[::2]  # every second element "
   ]
  },
  {
   "cell_type": "code",
   "execution_count": 111,
   "id": "8edbf510-aa7c-4b11-8ba6-99c94753cda7",
   "metadata": {},
   "outputs": [
    {
     "data": {
      "text/plain": [
       "array([4, 3, 6])"
      ]
     },
     "execution_count": 111,
     "metadata": {},
     "output_type": "execute_result"
    }
   ],
   "source": [
    "x1[1::2]  # every second element, starting at index 1"
   ]
  },
  {
   "cell_type": "code",
   "execution_count": 113,
   "id": "3365ad79-1d72-4f62-89bd-e967ff1882d3",
   "metadata": {},
   "outputs": [
    {
     "data": {
      "text/plain": [
       "array([6, 8, 3, 0, 4, 3])"
      ]
     },
     "execution_count": 113,
     "metadata": {},
     "output_type": "execute_result"
    }
   ],
   "source": [
    "x1[::-1]  # all elements reversed "
   ]
  },
  {
   "cell_type": "code",
   "execution_count": 115,
   "id": "e3085aef-7969-495e-82ff-f3d17e74d64e",
   "metadata": {},
   "outputs": [
    {
     "data": {
      "text/plain": [
       "array([8, 0, 3])"
      ]
     },
     "execution_count": 115,
     "metadata": {},
     "output_type": "execute_result"
    }
   ],
   "source": [
    "x1[4::-2]"
   ]
  },
  {
   "cell_type": "code",
   "execution_count": 117,
   "id": "48ae464e-6d7d-4681-9c6f-be7b3e8223f7",
   "metadata": {},
   "outputs": [
    {
     "data": {
      "text/plain": [
       "array([[12,  1,  3,  7],\n",
       "       [ 4,  0,  2,  3],\n",
       "       [ 0,  0,  6,  9]])"
      ]
     },
     "execution_count": 117,
     "metadata": {},
     "output_type": "execute_result"
    }
   ],
   "source": [
    "x2"
   ]
  },
  {
   "cell_type": "code",
   "execution_count": 121,
   "id": "423822a1-e6de-43c5-8b91-dbda1c948dd0",
   "metadata": {},
   "outputs": [
    {
     "data": {
      "text/plain": [
       "array([[12,  1,  3],\n",
       "       [ 4,  0,  2]])"
      ]
     },
     "execution_count": 121,
     "metadata": {},
     "output_type": "execute_result"
    }
   ],
   "source": [
    "x2[:2, :3]  # first two rows and first three columns "
   ]
  },
  {
   "cell_type": "code",
   "execution_count": 123,
   "id": "4ae027e7-4ab7-456a-a71b-88ed904e8d65",
   "metadata": {},
   "outputs": [
    {
     "data": {
      "text/plain": [
       "array([[12,  3],\n",
       "       [ 4,  2],\n",
       "       [ 0,  6]])"
      ]
     },
     "execution_count": 123,
     "metadata": {},
     "output_type": "execute_result"
    }
   ],
   "source": [
    "x2[:3, ::2]  # three rows every second columns "
   ]
  },
  {
   "cell_type": "code",
   "execution_count": 125,
   "id": "438bea01-2d95-4798-bfba-9c30abbae91d",
   "metadata": {},
   "outputs": [
    {
     "data": {
      "text/plain": [
       "array([[ 9,  6,  0,  0],\n",
       "       [ 3,  2,  0,  4],\n",
       "       [ 7,  3,  1, 12]])"
      ]
     },
     "execution_count": 125,
     "metadata": {},
     "output_type": "execute_result"
    }
   ],
   "source": [
    "x2[::-1, ::-1] # all rows and columns reversed"
   ]
  },
  {
   "cell_type": "code",
   "execution_count": 127,
   "id": "0451b090-437a-4f1c-a360-185abe2f3819",
   "metadata": {},
   "outputs": [
    {
     "data": {
      "text/plain": [
       "array([12,  4,  0])"
      ]
     },
     "execution_count": 127,
     "metadata": {},
     "output_type": "execute_result"
    }
   ],
   "source": [
    "x2[:, 0]   # first column of x2, here is only 1st column order"
   ]
  },
  {
   "cell_type": "code",
   "execution_count": 129,
   "id": "bf0a0ebe-3f1f-4d00-b5ad-88bc14a31761",
   "metadata": {},
   "outputs": [
    {
     "name": "stdout",
     "output_type": "stream",
     "text": [
      "[[12  1]\n",
      " [ 4  0]]\n"
     ]
    }
   ],
   "source": [
    "x2_sub = x2[:2, :2]\n",
    "print(x2_sub)"
   ]
  },
  {
   "cell_type": "code",
   "execution_count": 131,
   "id": "5715e538-2fd2-47f3-a814-59b39ad8a93a",
   "metadata": {},
   "outputs": [
    {
     "name": "stdout",
     "output_type": "stream",
     "text": [
      "[[90  1]\n",
      " [ 4  0]]\n"
     ]
    }
   ],
   "source": [
    "x2_sub[0,0] = 90\n",
    "print(x2_sub)"
   ]
  },
  {
   "cell_type": "code",
   "execution_count": 133,
   "id": "0a0fea5f-26b5-45be-9c63-04d9a87e2e6a",
   "metadata": {},
   "outputs": [
    {
     "name": "stdout",
     "output_type": "stream",
     "text": [
      "[[90  1  3  7]\n",
      " [ 4  0  2  3]\n",
      " [ 0  0  6  9]]\n"
     ]
    }
   ],
   "source": [
    "print(x2)"
   ]
  },
  {
   "cell_type": "code",
   "execution_count": 137,
   "id": "8ba9f2a1-b423-46ba-9457-13367926f9ee",
   "metadata": {},
   "outputs": [
    {
     "name": "stdout",
     "output_type": "stream",
     "text": [
      "[[90  1]\n",
      " [ 4  0]]\n"
     ]
    }
   ],
   "source": [
    "x2_sub_copy = x2[:2, :2].copy()  # copy() explicitly copy the data within an array or a subarray\n",
    "print(x2_sub_copy)"
   ]
  },
  {
   "cell_type": "code",
   "execution_count": 139,
   "id": "45c76a49-0d90-4d7f-8333-d7f7d60756b3",
   "metadata": {},
   "outputs": [
    {
     "name": "stdout",
     "output_type": "stream",
     "text": [
      "[[42  1]\n",
      " [ 4  0]]\n"
     ]
    }
   ],
   "source": [
    "x2_sub_copy[0,0] = 42\n",
    "print(x2_sub_copy)"
   ]
  },
  {
   "cell_type": "code",
   "execution_count": 141,
   "id": "d8b9e3b1-d600-47b6-b9bf-c975ed0eb8a9",
   "metadata": {},
   "outputs": [
    {
     "name": "stdout",
     "output_type": "stream",
     "text": [
      "[[90  1  3  7]\n",
      " [ 4  0  2  3]\n",
      " [ 0  0  6  9]]\n"
     ]
    }
   ],
   "source": [
    "print(x2)"
   ]
  },
  {
   "cell_type": "code",
   "execution_count": 143,
   "id": "3b1abd4d-1ca4-4347-af30-53ff03688d7c",
   "metadata": {},
   "outputs": [],
   "source": [
    "x = np.arange(1, 10).reshape(3,3)"
   ]
  },
  {
   "cell_type": "code",
   "execution_count": 145,
   "id": "4bdab4c0-a3ed-4659-bcdd-19a406312e8e",
   "metadata": {},
   "outputs": [
    {
     "data": {
      "text/plain": [
       "array([[1, 2, 3],\n",
       "       [4, 5, 6],\n",
       "       [7, 8, 9]])"
      ]
     },
     "execution_count": 145,
     "metadata": {},
     "output_type": "execute_result"
    }
   ],
   "source": [
    "x"
   ]
  },
  {
   "cell_type": "code",
   "execution_count": 147,
   "id": "32966069-6502-4170-b847-5bc146ef77dd",
   "metadata": {},
   "outputs": [
    {
     "data": {
      "text/plain": [
       "array([[1, 2, 3]])"
      ]
     },
     "execution_count": 147,
     "metadata": {},
     "output_type": "execute_result"
    }
   ],
   "source": [
    "x = np.array([1,2,3])\n",
    "x.reshape((1,3)) # row vector via reshape"
   ]
  },
  {
   "cell_type": "code",
   "execution_count": 149,
   "id": "c1e32309-2c1b-4d40-8e9a-b27a37a6a669",
   "metadata": {},
   "outputs": [],
   "source": [
    "grid = np.array([[1, 2, 3],\n",
    "                [4, 5, 6], \n",
    "                [7, 8, 9]])\n"
   ]
  },
  {
   "cell_type": "code",
   "execution_count": 153,
   "id": "febd00cb-5d3c-47a7-a01d-74a205204c5b",
   "metadata": {},
   "outputs": [
    {
     "data": {
      "text/plain": [
       "array([[1, 2, 3],\n",
       "       [4, 5, 6],\n",
       "       [7, 8, 9],\n",
       "       [1, 2, 3],\n",
       "       [4, 5, 6],\n",
       "       [7, 8, 9]])"
      ]
     },
     "execution_count": 153,
     "metadata": {},
     "output_type": "execute_result"
    }
   ],
   "source": [
    "np.concatenate([grid, grid])"
   ]
  },
  {
   "cell_type": "code",
   "execution_count": 155,
   "id": "352d6583-e5c1-470c-bd25-94bcb151ca39",
   "metadata": {},
   "outputs": [
    {
     "data": {
      "text/plain": [
       "array([[1, 2, 3, 1, 2, 3],\n",
       "       [4, 5, 6, 4, 5, 6],\n",
       "       [7, 8, 9, 7, 8, 9]])"
      ]
     },
     "execution_count": 155,
     "metadata": {},
     "output_type": "execute_result"
    }
   ],
   "source": [
    "np.concatenate([grid, grid], axis=1)\n"
   ]
  },
  {
   "cell_type": "code",
   "execution_count": null,
   "id": "a36a3e22-faf1-4ada-b030-8b22494b6f57",
   "metadata": {},
   "outputs": [],
   "source": []
  }
 ],
 "metadata": {
  "kernelspec": {
   "display_name": "Python [conda env:base] *",
   "language": "python",
   "name": "conda-base-py"
  },
  "language_info": {
   "codemirror_mode": {
    "name": "ipython",
    "version": 3
   },
   "file_extension": ".py",
   "mimetype": "text/x-python",
   "name": "python",
   "nbconvert_exporter": "python",
   "pygments_lexer": "ipython3",
   "version": "3.12.7"
  }
 },
 "nbformat": 4,
 "nbformat_minor": 5
}
